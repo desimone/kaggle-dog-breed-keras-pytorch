{
 "cells": [
  {
   "cell_type": "markdown",
   "metadata": {},
   "source": [
    "# Multiclass object identifcation of dog breeds, Pytorch Edition\n",
    "\n",
    "See [Keras version](https://www.kaggle.com/nothxplz/keras-inception-resnet-inception-resnet50) here.\n",
    "\n",
    "Assumes following directory structure.\n",
    "\n",
    "```bash\n",
    ".\n",
    "├── data\n",
    "│   ├── classify_by_dir.sh\n",
    "│   ├── labels.csv\n",
    "│   ├── sample_submission.csv\n",
    "│   ├── sample_submission.csv.zip\n",
    "│   ├── test\n",
    "│   ├── test.zip\n",
    "│   ├── train\n",
    "│   ├── train.zip\n",
    "│   ├── unsorted\n",
    "│   └── val\n",
    "├── keras.best.h5\n",
    "├── keras.ipynb\n",
    "└── submit.csv\n",
    "```\n",
    "Save the following script in your data directory as `classify_by_dir.sh` then run\n",
    "\n",
    "`unzip train.zip && mv train unsorted && ./classify_by_dir.sh`\n",
    "\n",
    "```bash\n",
    "#!/bin/bash\n",
    "shuf -o labels.csv <labels.csv\n",
    "unsorted_dir=unsorted\n",
    "counter=0\n",
    "# SHUFFLE THE FILE WOOO\n",
    "while IFS=, read -r image class; do\n",
    "\t# very roughly 25% to val\n",
    "\tif (($counter == 4)); then\n",
    "\t\tsorted_dir=val\n",
    "\t\tmkdir -p $sorted_dir/$class\n",
    "\t\tmv $unsorted_dir/$image.jpg $sorted_dir/$class/$image.jpg\n",
    "\t\tcounter=0\n",
    "\telse\n",
    "\t\tsorted_dir=train\n",
    "\t\tmkdir -p $sorted_dir/$class\n",
    "\t\tmv $unsorted_dir/$image.jpg $sorted_dir/$class/$image.jpg\n",
    "\tfi\n",
    "\t((counter++))\n",
    "\n",
    "done <labels.csv\n",
    "```"
   ]
  },
  {
   "cell_type": "code",
   "execution_count": 130,
   "metadata": {},
   "outputs": [
    {
     "name": "stdout",
     "output_type": "stream",
     "text": [
      "pytorch v.0.3.0.post4\n"
     ]
    }
   ],
   "source": [
    "from __future__ import print_function\n",
    "\n",
    "import os\n",
    "import os.path\n",
    "import shutil\n",
    "import time\n",
    "\n",
    "import numpy as np\n",
    "print(\"np v.{}\".format(np.__version__))\n",
    "import torch\n",
    "print(\"pytorch v.{}\".format(torch.__version__))\n",
    "import torch.backends.cudnn as cudnn\n",
    "import torch.nn as nn\n",
    "import torch.nn.parallel\n",
    "import torch.optim as optim\n",
    "import torch.utils.data as data\n",
    "import torchvision.datasets as datasets\n",
    "import torchvision.models as models\n",
    "import torchvision.transforms as transforms\n",
    "from tqdm import tqdm_notebook\n",
    "\n",
    "# available models\n",
    "# ['alexnet', 'densenet', 'densenet121', 'densenet161', 'densenet169', 'densenet201', ' inception', 'inception_v3', 'resnet', 'resnet101', 'resnet152', 'resnet18', 'resnet34',  'resnet50', 'squeezenet', 'squeezenet1_0', 'squeezenet1_1', 'vgg', 'vgg11', 'vgg11_bn', ' vgg13', 'vgg13_bn', 'vgg16', 'vgg16_bn', 'vgg19', 'vgg19_bn']\n",
    "# Globals\n",
    "MODEL = 'resnet50'\n",
    "RESUME = False\n",
    "DATA_WORKERS = 4\n",
    "BATCH_SIZE = 32\n",
    "LEARNING_RATE = 1e-3\n",
    "EPOCHS = 30\n",
    "WEIGHT_DECAY = 0.0005\n",
    "CLASSES = 120\n",
    "BEST_ACC = 0"
   ]
  },
  {
   "cell_type": "code",
   "execution_count": 131,
   "metadata": {
    "collapsed": true
   },
   "outputs": [],
   "source": [
    "model = models.__dict__[MODEL](pretrained=True)\n",
    "\n",
    "for param in model.parameters():\n",
    "    param.requires_grad = False\n",
    "\n",
    "if MODEL is 'resnet50':\n",
    "    model.fc = nn.Linear(2048, CLASSES)\n",
    "    \n",
    "model = torch.nn.DataParallel(model).cuda()\n",
    "cudnn.benchmark = True\n",
    "criterion = nn.CrossEntropyLoss().cuda()\n",
    "optimizer = optim.Adam(model.module.fc.parameters(), lr=LEARNING_RATE, weight_decay=WEIGHT_DECAY)"
   ]
  },
  {
   "cell_type": "code",
   "execution_count": 132,
   "metadata": {
    "collapsed": true
   },
   "outputs": [],
   "source": [
    "data_dir = os.path.join(os.getcwd(),'data')\n",
    "traindir = os.path.join(data_dir, 'train')\n",
    "valdir = os.path.join(data_dir, 'val')\n",
    "testdir = os.path.join(data_dir, 'test')\n",
    "\n",
    "normalize = transforms.Normalize(mean=[0.485, 0.456, 0.406], std=[0.229, 0.224, 0.225])\n",
    "\n",
    "train_loader = data.DataLoader(\n",
    "    datasets.ImageFolder(traindir,\n",
    "                         transforms.Compose([\n",
    "                             transforms.RandomResizedCrop(224),\n",
    "                             transforms.RandomHorizontalFlip(),\n",
    "                             transforms.ToTensor(),\n",
    "                             normalize,\n",
    "                         ])),\n",
    "    batch_size=BATCH_SIZE,\n",
    "    shuffle=True,\n",
    "    num_workers=DATA_WORKERS,\n",
    "    pin_memory=True)\n",
    "\n",
    "val_loader = data.DataLoader(\n",
    "    datasets.ImageFolder(valdir,\n",
    "                         transforms.Compose([\n",
    "                             transforms.Resize(256),\n",
    "                             transforms.CenterCrop(224),\n",
    "                             transforms.ToTensor(),\n",
    "                             normalize,\n",
    "                         ])),\n",
    "    batch_size=BATCH_SIZE,\n",
    "    shuffle=True,\n",
    "    num_workers=DATA_WORKERS,\n",
    "    pin_memory=True)\n",
    "\n",
    "assert len(train_loader.dataset.classes) is len(val_loader.dataset.classes)\n",
    "assert len(train_loader.dataset.classes) is CLASSES"
   ]
  },
  {
   "cell_type": "code",
   "execution_count": 133,
   "metadata": {
    "collapsed": true
   },
   "outputs": [],
   "source": [
    "def adjust_learning_rate(optimizer, epoch):\n",
    "    \"\"\"Sets the learning rate to the initial LR decayed by 10 every 10 epochs\"\"\"\n",
    "    lr = LEARNING_RATE * (0.1 ** (epoch // 10))\n",
    "    for param_group in optimizer.param_groups:\n",
    "        param_group['lr'] = lr"
   ]
  },
  {
   "cell_type": "code",
   "execution_count": 134,
   "metadata": {
    "collapsed": true
   },
   "outputs": [],
   "source": [
    "class AverageMeter(object):\n",
    "    \"\"\"Computes and stores the average and current value\"\"\"\n",
    "\n",
    "    def __init__(self):\n",
    "        self.reset()\n",
    "\n",
    "    def reset(self):\n",
    "        self.val = 0\n",
    "        self.avg = 0\n",
    "        self.sum = 0\n",
    "        self.count = 0\n",
    "\n",
    "    def update(self, val, n=1):\n",
    "        self.val = val\n",
    "        self.sum += val * n\n",
    "        self.count += n\n",
    "        self.avg = self.sum / self.count\n"
   ]
  },
  {
   "cell_type": "code",
   "execution_count": 135,
   "metadata": {
    "collapsed": true
   },
   "outputs": [],
   "source": [
    "def train(train_loader, model, criterion, optimizer, epoch):\n",
    "    losses = AverageMeter()\n",
    "    model.train()\n",
    "\n",
    "    pbar = tqdm_notebook(train_loader)\n",
    "    for i, (images, target) in enumerate(pbar):\n",
    "        target = target.cuda(async=True)\n",
    "        image_var = torch.autograd.Variable(images)\n",
    "        label_var = torch.autograd.Variable(target)\n",
    "        y_pred = model(image_var)\n",
    "        loss = criterion(y_pred, label_var)\n",
    "        losses.update(loss.data[0], images.size(0))\n",
    "        optimizer.zero_grad()\n",
    "        loss.backward()\n",
    "        optimizer.step()\n",
    "        pbar.set_description(\"EPOCH[{0}][{1}/{2}]\".format(epoch, i, len(train_loader)))\n",
    "        pbar.set_postfix(loss=\"{loss.val:.4f} ({loss.avg:.4f})\".format(loss=losses))\n"
   ]
  },
  {
   "cell_type": "code",
   "execution_count": 136,
   "metadata": {
    "collapsed": true
   },
   "outputs": [],
   "source": [
    "def validate(val_loader, model, criterion):\n",
    "    losses = AverageMeter()\n",
    "    model.eval()\n",
    "    pbar = tqdm_notebook(val_loader)\n",
    "    for i, (images, labels) in enumerate(pbar):\n",
    "        labels = labels.cuda(async=True)\n",
    "        image_var = torch.autograd.Variable(images, volatile=True)\n",
    "        label_var = torch.autograd.Variable(labels, volatile=True)\n",
    "        y_pred = model(image_var)\n",
    "        loss = criterion(y_pred, label_var)\n",
    "        losses.update(loss.data[0], images.size(0))\n",
    "        pbar.set_description(\"VALIDATION[{}/{}]\".format(i, len(val_loader)))\n",
    "        pbar.set_postfix(loss=\"{loss.val:.4f} ({loss.avg:.4f})\".format(loss=losses))\n",
    "\n",
    "    return losses.avg\n"
   ]
  },
  {
   "cell_type": "code",
   "execution_count": 137,
   "metadata": {},
   "outputs": [
    {
     "data": {
      "application/vnd.jupyter.widget-view+json": {
       "model_id": "be4dee8ef2c24a04b70fa7ae82088f0b"
      }
     },
     "metadata": {},
     "output_type": "display_data"
    },
    {
     "data": {
      "application/vnd.jupyter.widget-view+json": {
       "model_id": "0db7b07bb0ae4993bb45e48b4d5fa322"
      }
     },
     "metadata": {},
     "output_type": "display_data"
    },
    {
     "data": {
      "application/vnd.jupyter.widget-view+json": {
       "model_id": "2351b84fb08b4ed7963a416caee82bde"
      }
     },
     "metadata": {},
     "output_type": "display_data"
    },
    {
     "data": {
      "application/vnd.jupyter.widget-view+json": {
       "model_id": "4ea7392971784eee87ffed08a34dacf8"
      }
     },
     "metadata": {},
     "output_type": "display_data"
    },
    {
     "data": {
      "application/vnd.jupyter.widget-view+json": {
       "model_id": "830d8ff5ed894821b6114b42d648bce0"
      }
     },
     "metadata": {},
     "output_type": "display_data"
    },
    {
     "data": {
      "application/vnd.jupyter.widget-view+json": {
       "model_id": "a6eac6c66aa84fb08d1dcc649cb5c22b"
      }
     },
     "metadata": {},
     "output_type": "display_data"
    },
    {
     "data": {
      "application/vnd.jupyter.widget-view+json": {
       "model_id": "f0a0f1dc6835427ca2710f02f072a207"
      }
     },
     "metadata": {},
     "output_type": "display_data"
    },
    {
     "data": {
      "application/vnd.jupyter.widget-view+json": {
       "model_id": "c47c761e14724e24a1f58443d0ffbee0"
      }
     },
     "metadata": {},
     "output_type": "display_data"
    },
    {
     "data": {
      "application/vnd.jupyter.widget-view+json": {
       "model_id": "950283ff825d417ea2e8243a81dd9788"
      }
     },
     "metadata": {},
     "output_type": "display_data"
    },
    {
     "data": {
      "application/vnd.jupyter.widget-view+json": {
       "model_id": "57222cbd9ea84b4db2c44a5724b92598"
      }
     },
     "metadata": {},
     "output_type": "display_data"
    },
    {
     "data": {
      "application/vnd.jupyter.widget-view+json": {
       "model_id": "f44cad07ba694ea68965bd537e3c520f"
      }
     },
     "metadata": {},
     "output_type": "display_data"
    },
    {
     "data": {
      "application/vnd.jupyter.widget-view+json": {
       "model_id": "f05a74e51f2c48d48d2a4d2423552ee6"
      }
     },
     "metadata": {},
     "output_type": "display_data"
    },
    {
     "data": {
      "application/vnd.jupyter.widget-view+json": {
       "model_id": "29747e6f308049e68993a09d72a68411"
      }
     },
     "metadata": {},
     "output_type": "display_data"
    },
    {
     "data": {
      "application/vnd.jupyter.widget-view+json": {
       "model_id": "7c3a0c7b37f84dd495819276f316a990"
      }
     },
     "metadata": {},
     "output_type": "display_data"
    },
    {
     "data": {
      "application/vnd.jupyter.widget-view+json": {
       "model_id": "af79b09ed7d149929ebc053395bd3905"
      }
     },
     "metadata": {},
     "output_type": "display_data"
    },
    {
     "data": {
      "application/vnd.jupyter.widget-view+json": {
       "model_id": "417230477a004078a36220bda6550caf"
      }
     },
     "metadata": {},
     "output_type": "display_data"
    },
    {
     "data": {
      "application/vnd.jupyter.widget-view+json": {
       "model_id": "786cb27e9cc14f27acb39a602de9a7a7"
      }
     },
     "metadata": {},
     "output_type": "display_data"
    },
    {
     "data": {
      "application/vnd.jupyter.widget-view+json": {
       "model_id": "64dc3915cec840d4bba7846b35aae0ac"
      }
     },
     "metadata": {},
     "output_type": "display_data"
    },
    {
     "data": {
      "application/vnd.jupyter.widget-view+json": {
       "model_id": "0c8eeb8fb73b46f9adae9c2dee789d1e"
      }
     },
     "metadata": {},
     "output_type": "display_data"
    },
    {
     "data": {
      "application/vnd.jupyter.widget-view+json": {
       "model_id": "1a8e139b98b14626bd870a155d7e083c"
      }
     },
     "metadata": {},
     "output_type": "display_data"
    },
    {
     "data": {
      "application/vnd.jupyter.widget-view+json": {
       "model_id": "1585fad200a24940915a874508e4c8dd"
      }
     },
     "metadata": {},
     "output_type": "display_data"
    },
    {
     "data": {
      "application/vnd.jupyter.widget-view+json": {
       "model_id": "c30bb48af5134f67bd1f7bd870a89b35"
      }
     },
     "metadata": {},
     "output_type": "display_data"
    },
    {
     "data": {
      "application/vnd.jupyter.widget-view+json": {
       "model_id": "a215292955f54db5af7d01157b81c3a9"
      }
     },
     "metadata": {},
     "output_type": "display_data"
    },
    {
     "data": {
      "application/vnd.jupyter.widget-view+json": {
       "model_id": "4bd4338c69154b2689e53f51133b509f"
      }
     },
     "metadata": {},
     "output_type": "display_data"
    },
    {
     "data": {
      "application/vnd.jupyter.widget-view+json": {
       "model_id": "006d7660a89146bebffd1a7191f11dea"
      }
     },
     "metadata": {},
     "output_type": "display_data"
    },
    {
     "data": {
      "application/vnd.jupyter.widget-view+json": {
       "model_id": "30a90bfbff354abfa930f3e1faaee721"
      }
     },
     "metadata": {},
     "output_type": "display_data"
    },
    {
     "data": {
      "application/vnd.jupyter.widget-view+json": {
       "model_id": "214c3e14d97d44e2a1766a9bc4ad0376"
      }
     },
     "metadata": {},
     "output_type": "display_data"
    },
    {
     "data": {
      "application/vnd.jupyter.widget-view+json": {
       "model_id": "db3e25984652417085a13d44b724081a"
      }
     },
     "metadata": {},
     "output_type": "display_data"
    },
    {
     "data": {
      "application/vnd.jupyter.widget-view+json": {
       "model_id": "a14bcfcdb0114439890fcc008d4bbc9b"
      }
     },
     "metadata": {},
     "output_type": "display_data"
    },
    {
     "data": {
      "application/vnd.jupyter.widget-view+json": {
       "model_id": "48f5b091e3d54e90b74085c3bc62bb55"
      }
     },
     "metadata": {},
     "output_type": "display_data"
    },
    {
     "data": {
      "application/vnd.jupyter.widget-view+json": {
       "model_id": "b445aaa0d1d0452f99e0c420a913a641"
      }
     },
     "metadata": {},
     "output_type": "display_data"
    },
    {
     "data": {
      "application/vnd.jupyter.widget-view+json": {
       "model_id": "c8e73cfd9de645f8bd2b27bd45142144"
      }
     },
     "metadata": {},
     "output_type": "display_data"
    },
    {
     "data": {
      "application/vnd.jupyter.widget-view+json": {
       "model_id": "6eb94ef9bcd448a6923d5fe0a5e63235"
      }
     },
     "metadata": {},
     "output_type": "display_data"
    },
    {
     "data": {
      "application/vnd.jupyter.widget-view+json": {
       "model_id": "3e1a70e83875462ab8186774c7316bf0"
      }
     },
     "metadata": {},
     "output_type": "display_data"
    },
    {
     "data": {
      "application/vnd.jupyter.widget-view+json": {
       "model_id": "96259872aef84c8db0220e21f5c1007d"
      }
     },
     "metadata": {},
     "output_type": "display_data"
    },
    {
     "data": {
      "application/vnd.jupyter.widget-view+json": {
       "model_id": "46cd35a406374fd18a2035f6bc71f138"
      }
     },
     "metadata": {},
     "output_type": "display_data"
    },
    {
     "data": {
      "application/vnd.jupyter.widget-view+json": {
       "model_id": "9d6ab64d9811400c8a35b155ae23027c"
      }
     },
     "metadata": {},
     "output_type": "display_data"
    },
    {
     "data": {
      "application/vnd.jupyter.widget-view+json": {
       "model_id": "8fbffc30f7a549b38db6d288075753c0"
      }
     },
     "metadata": {},
     "output_type": "display_data"
    },
    {
     "data": {
      "application/vnd.jupyter.widget-view+json": {
       "model_id": "134d78d5c2794d949e16343209dd7dc5"
      }
     },
     "metadata": {},
     "output_type": "display_data"
    },
    {
     "data": {
      "application/vnd.jupyter.widget-view+json": {
       "model_id": "72ffb8db1c0f435f8da7a0dbc2b9e3ff"
      }
     },
     "metadata": {},
     "output_type": "display_data"
    },
    {
     "data": {
      "application/vnd.jupyter.widget-view+json": {
       "model_id": "a1a6796ddbe24962a5b561f86e833d97"
      }
     },
     "metadata": {},
     "output_type": "display_data"
    },
    {
     "data": {
      "application/vnd.jupyter.widget-view+json": {
       "model_id": "8c7112711564433db623f4e4fd9ff8c0"
      }
     },
     "metadata": {},
     "output_type": "display_data"
    },
    {
     "data": {
      "application/vnd.jupyter.widget-view+json": {
       "model_id": "a3a6800c30fb450a8454f64a7b04feb3"
      }
     },
     "metadata": {},
     "output_type": "display_data"
    },
    {
     "data": {
      "application/vnd.jupyter.widget-view+json": {
       "model_id": "dc3ece1e6df6446db6ce96cad8cb2f61"
      }
     },
     "metadata": {},
     "output_type": "display_data"
    },
    {
     "data": {
      "application/vnd.jupyter.widget-view+json": {
       "model_id": "5736324915b24056aa17ae8975dcf007"
      }
     },
     "metadata": {},
     "output_type": "display_data"
    },
    {
     "data": {
      "application/vnd.jupyter.widget-view+json": {
       "model_id": "a5ea17a506e84e29bbeac7fea012da5c"
      }
     },
     "metadata": {},
     "output_type": "display_data"
    },
    {
     "data": {
      "application/vnd.jupyter.widget-view+json": {
       "model_id": "d70ff6116d4a4d7ea19930caab1b4fee"
      }
     },
     "metadata": {},
     "output_type": "display_data"
    },
    {
     "data": {
      "application/vnd.jupyter.widget-view+json": {
       "model_id": "0cc9f2456a294173b1a6a5f37f902eed"
      }
     },
     "metadata": {},
     "output_type": "display_data"
    },
    {
     "data": {
      "application/vnd.jupyter.widget-view+json": {
       "model_id": "9b219f19dc5f4243bf3e62450d2961ce"
      }
     },
     "metadata": {},
     "output_type": "display_data"
    },
    {
     "data": {
      "application/vnd.jupyter.widget-view+json": {
       "model_id": "314fcd0e3c5048c99d4603d7c9872746"
      }
     },
     "metadata": {},
     "output_type": "display_data"
    },
    {
     "data": {
      "application/vnd.jupyter.widget-view+json": {
       "model_id": "ebfe00d04c3143cba2c59c95a7a95d79"
      }
     },
     "metadata": {},
     "output_type": "display_data"
    },
    {
     "data": {
      "application/vnd.jupyter.widget-view+json": {
       "model_id": "91ae4da5ec154e2faaffcfb091be1b61"
      }
     },
     "metadata": {},
     "output_type": "display_data"
    },
    {
     "data": {
      "application/vnd.jupyter.widget-view+json": {
       "model_id": "5b52d13c9ef0408385aac93c04875bd8"
      }
     },
     "metadata": {},
     "output_type": "display_data"
    },
    {
     "data": {
      "application/vnd.jupyter.widget-view+json": {
       "model_id": "6979dce97d5e4a9b91b8e032e4b66e65"
      }
     },
     "metadata": {},
     "output_type": "display_data"
    },
    {
     "data": {
      "application/vnd.jupyter.widget-view+json": {
       "model_id": "1f27afccc608494f81b3a8fbce10688b"
      }
     },
     "metadata": {},
     "output_type": "display_data"
    },
    {
     "data": {
      "application/vnd.jupyter.widget-view+json": {
       "model_id": "254d846fa32d4c739c7ce94787c0c044"
      }
     },
     "metadata": {},
     "output_type": "display_data"
    },
    {
     "data": {
      "application/vnd.jupyter.widget-view+json": {
       "model_id": "b1784c090f58465697037a76cf7edb6f"
      }
     },
     "metadata": {},
     "output_type": "display_data"
    },
    {
     "data": {
      "application/vnd.jupyter.widget-view+json": {
       "model_id": "a407c109afcf439490fb9d6c015b0d1b"
      }
     },
     "metadata": {},
     "output_type": "display_data"
    },
    {
     "data": {
      "application/vnd.jupyter.widget-view+json": {
       "model_id": "807d0b0685a54131b6ff16a80b110a99"
      }
     },
     "metadata": {},
     "output_type": "display_data"
    },
    {
     "data": {
      "application/vnd.jupyter.widget-view+json": {
       "model_id": "aef4cf5706c2415897794db9a7947996"
      }
     },
     "metadata": {},
     "output_type": "display_data"
    }
   ],
   "source": [
    "for epoch in range(EPOCHS):\n",
    "    \n",
    "    adjust_learning_rate(optimizer, epoch)\n",
    "    # train for one epoch\n",
    "    train(train_loader, model, criterion, optimizer, epoch)\n",
    "    # validate, and track loss to see how we did \n",
    "    loss = validate(val_loader, model, criterion)\n",
    "    \n",
    "    is_best = loss > BEST_ACC\n",
    "    best_loss = max(loss, BEST_ACC)\n",
    "    state = {\n",
    "        'epoch': epoch + 1,\n",
    "        'arch': MODEL,\n",
    "        'state_dict': model.state_dict(),\n",
    "        'best_loss': BEST_ACC,\n",
    "    }\n",
    "    torch.save(state, 'checkpoint.pth.tar')\n",
    "    if is_best:\n",
    "        shutil.copyfile('checkpoint.pth.tar', 'model_best_{}.pth.tar'.format(BEST_ACC))\n"
   ]
  },
  {
   "cell_type": "code",
   "execution_count": null,
   "metadata": {
    "collapsed": true
   },
   "outputs": [],
   "source": []
  },
  {
   "cell_type": "code",
   "execution_count": null,
   "metadata": {
    "collapsed": true
   },
   "outputs": [],
   "source": []
  },
  {
   "cell_type": "code",
   "execution_count": null,
   "metadata": {
    "collapsed": true
   },
   "outputs": [],
   "source": []
  }
 ],
 "metadata": {
  "kernelspec": {
   "display_name": "Python 3",
   "language": "python",
   "name": "python3"
  },
  "language_info": {
   "codemirror_mode": {
    "name": "ipython",
    "version": 3
   },
   "file_extension": ".py",
   "mimetype": "text/x-python",
   "name": "python",
   "nbconvert_exporter": "python",
   "pygments_lexer": "ipython3",
   "version": "3.6.4"
  }
 },
 "nbformat": 4,
 "nbformat_minor": 2
}
